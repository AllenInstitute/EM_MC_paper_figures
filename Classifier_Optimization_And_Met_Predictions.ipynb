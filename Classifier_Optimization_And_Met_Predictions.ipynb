{
 "cells": [
  {
   "cell_type": "code",
   "execution_count": 2,
   "metadata": {},
   "outputs": [
    {
     "name": "stderr",
     "output_type": "stream",
     "text": [
      "C:\\Users\\matt.mallory\\AppData\\Local\\Continuum\\anaconda3\\envs\\win_skkey_env\\lib\\site-packages\\scipy\\__init__.py:155: UserWarning: A NumPy version >=1.18.5 and <1.25.0 is required for this version of SciPy (detected version 1.26.3\n",
      "  warnings.warn(f\"A NumPy version >={np_minversion} and <{np_maxversion}\"\n"
     ]
    }
   ],
   "source": [
    "import os \n",
    "import numpy as np\n",
    "import pandas as pd\n",
    "import seaborn as sns\n",
    "import matplotlib.pyplot as plt\n",
    "import json\n",
    "\n",
    "from sklearn import metrics\n",
    "\n",
    "from sklearn.svm import SVC\n",
    "from sklearn.ensemble import RandomForestClassifier\n",
    "from sklearn.model_selection import cross_validate\n",
    "from sklearn.model_selection import StratifiedKFold\n",
    "from sklearn.model_selection import train_test_split\n",
    "from sklearn.linear_model import LogisticRegression\n",
    "from sklearn.model_selection import RandomizedSearchCV\n",
    "from tqdm import tqdm\n",
    "from sklearn.base import clone"
   ]
  },
  {
   "cell_type": "code",
   "execution_count": null,
   "metadata": {},
   "outputs": [],
   "source": []
  },
  {
   "cell_type": "code",
   "execution_count": 5,
   "metadata": {},
   "outputs": [
    {
     "name": "stdout",
     "output_type": "stream",
     "text": [
      "The following cells are in shiny but not the manuscript's metadata file:\n",
      "[761816186, 966835644]\n",
      "(517, 25)\n",
      "14 Poor Q Cells dropped\n"
     ]
    }
   ],
   "source": [
    "ttype_qual_labels = pd.read_csv(\"../inh_ivscc_shiny_ttype_and_quality.csv\",index_col=0)\n",
    "metatdata_csv = pd.read_csv(\"../20200711_patchseq_metadata_mouse.csv\")\n",
    "\n",
    "no_metadata = [s for s in ttype_qual_labels.index if s not in metatdata_csv.cell_specimen_id.values]\n",
    "print(\"The following cells are in shiny but not the manuscript's metadata file:\")\n",
    "print(no_metadata)\n",
    "\n",
    "merged_labels = ttype_qual_labels.merge(metatdata_csv,left_on='spec_id_label',right_on='cell_specimen_id')\n",
    "print(merged_labels.shape)\n",
    "\n",
    "merged_labels_core_i3 = merged_labels[merged_labels['Tree_call_label']!='PoorQ']\n",
    "#if this fails there is a disagreement between metadata csv ttype and shiny ttype\n",
    "assert merged_labels_core_i3[merged_labels_core_i3['T-type Label'] != merged_labels_core_i3['Tree_first_cl_label']].empty\n",
    "print(\"{} Poor Q Cells dropped\".format(len(merged_labels[merged_labels['Tree_call_label']=='PoorQ'])))"
   ]
  },
  {
   "cell_type": "code",
   "execution_count": null,
   "metadata": {},
   "outputs": [],
   "source": []
  },
  {
   "cell_type": "code",
   "execution_count": null,
   "metadata": {},
   "outputs": [],
   "source": []
  },
  {
   "cell_type": "code",
   "execution_count": null,
   "metadata": {},
   "outputs": [],
   "source": []
  },
  {
   "cell_type": "code",
   "execution_count": 6,
   "metadata": {},
   "outputs": [
    {
     "name": "stdout",
     "output_type": "stream",
     "text": [
      "14 Poor Q Cells dropped\n"
     ]
    }
   ],
   "source": [
    "merged_labels_core_i3 = merged_labels[merged_labels['Tree_call_label']!='PoorQ']\n",
    "#if this fails there is a disagreement between metadata csv ttype and shiny ttype\n",
    "assert merged_labels_core_i3[merged_labels_core_i3['T-type Label'] != merged_labels_core_i3['Tree_first_cl_label']].empty\n",
    "print(\"{} Poor Q Cells dropped\".format(len(merged_labels[merged_labels['Tree_call_label']=='PoorQ'])))"
   ]
  },
  {
   "cell_type": "code",
   "execution_count": null,
   "metadata": {},
   "outputs": [],
   "source": []
  },
  {
   "cell_type": "code",
   "execution_count": 7,
   "metadata": {},
   "outputs": [
    {
     "name": "stderr",
     "output_type": "stream",
     "text": [
      "C:\\Users\\matt.mallory\\AppData\\Local\\Temp\\ipykernel_71972\\2827553882.py:3: SettingWithCopyWarning: \n",
      "A value is trying to be set on a copy of a slice from a DataFrame.\n",
      "Try using .loc[row_indexer,col_indexer] = value instead\n",
      "\n",
      "See the caveats in the documentation: https://pandas.pydata.org/pandas-docs/stable/user_guide/indexing.html#returning-a-view-versus-a-copy\n",
      "  relevant_labels[\"subclass\"] = relevant_labels['T-type Label'].str.split(\" \").str.get(0)\n",
      "C:\\Users\\matt.mallory\\AppData\\Local\\Temp\\ipykernel_71972\\2827553882.py:4: SettingWithCopyWarning: \n",
      "A value is trying to be set on a copy of a slice from a DataFrame.\n",
      "Try using .loc[row_indexer,col_indexer] = value instead\n",
      "\n",
      "See the caveats in the documentation: https://pandas.pydata.org/pandas-docs/stable/user_guide/indexing.html#returning-a-view-versus-a-copy\n",
      "  relevant_labels[\"subclass\"] = relevant_labels[\"subclass\"].replace(\"Serpinf1\",\"Vip\")\n"
     ]
    }
   ],
   "source": [
    "relevant_cols = ['cell_specimen_id','T-type Label',\"MET-type Label\",\"Tree_call_label\"]\n",
    "relevant_labels = merged_labels_core_i3[relevant_cols]\n",
    "relevant_labels[\"subclass\"] = relevant_labels['T-type Label'].str.split(\" \").str.get(0)\n",
    "relevant_labels[\"subclass\"] = relevant_labels[\"subclass\"].replace(\"Serpinf1\",\"Vip\")"
   ]
  },
  {
   "cell_type": "code",
   "execution_count": null,
   "metadata": {},
   "outputs": [],
   "source": []
  },
  {
   "cell_type": "code",
   "execution_count": 8,
   "metadata": {},
   "outputs": [
    {
     "name": "stdout",
     "output_type": "stream",
     "text": [
      "Dropping:\n",
      "basal_dendrite_mean_diameter\n",
      "basal_dendrite_total_surface_area\n",
      "soma_surface_area\n"
     ]
    }
   ],
   "source": [
    "ivscc_features = pd.read_csv(\"../IVSCC_Features_correct_layer_template/RawFeatureWide.csv\",index_col=0)\n",
    "all_feature_columns = ivscc_features.columns.to_list()\n",
    "flags = ['rad','diam','area']\n",
    "\n",
    "droppers = [c for c in all_feature_columns if any([i in c for i in flags])]\n",
    "print(\"Dropping:\")\n",
    "for  i in droppers:\n",
    "    print(i)\n",
    "all_feature_columns = [c for c in all_feature_columns if c not in droppers]\n",
    "\n",
    "\n",
    "merged_features = relevant_labels.merge(ivscc_features,right_on='specimen_id',left_on='cell_specimen_id')\n",
    "labels_to_predict = ['T-type Label',\"MET-type Label\",\"subclass\"]\n",
    "\n",
    "merged_features[['cell_specimen_id']+labels_to_predict].to_csv(\"./CellsUsedInIVSCCClassifiers.csv\")\n",
    "merged_features = merged_features.sample(frac=1)"
   ]
  },
  {
   "cell_type": "code",
   "execution_count": 9,
   "metadata": {},
   "outputs": [
    {
     "data": {
      "text/plain": [
       "(503, 51)"
      ]
     },
     "execution_count": 9,
     "metadata": {},
     "output_type": "execute_result"
    }
   ],
   "source": [
    "merged_features.shape"
   ]
  },
  {
   "cell_type": "code",
   "execution_count": 6,
   "metadata": {},
   "outputs": [
    {
     "data": {
      "text/plain": [
       "['axon_bias_x',\n",
       " 'axon_bias_y',\n",
       " 'axon_depth_pc_0',\n",
       " 'axon_depth_pc_1',\n",
       " 'axon_depth_pc_2',\n",
       " 'axon_depth_pc_3',\n",
       " 'axon_depth_pc_4',\n",
       " 'axon_emd_with_basal_dendrite',\n",
       " 'axon_exit_distance',\n",
       " 'axon_exit_theta',\n",
       " 'axon_extent_x',\n",
       " 'axon_extent_y',\n",
       " 'axon_frac_above_basal_dendrite',\n",
       " 'axon_frac_below_basal_dendrite',\n",
       " 'axon_frac_intersect_basal_dendrite',\n",
       " 'axon_max_branch_order',\n",
       " 'axon_max_euclidean_distance',\n",
       " 'axon_max_path_distance',\n",
       " 'axon_mean_contraction',\n",
       " 'axon_num_branches',\n",
       " 'axon_soma_percentile_x',\n",
       " 'axon_soma_percentile_y',\n",
       " 'axon_total_length',\n",
       " 'basal_dendrite_bias_x',\n",
       " 'basal_dendrite_bias_y',\n",
       " 'basal_dendrite_calculate_number_of_stems',\n",
       " 'basal_dendrite_extent_x',\n",
       " 'basal_dendrite_extent_y',\n",
       " 'basal_dendrite_frac_above_axon',\n",
       " 'basal_dendrite_frac_below_axon',\n",
       " 'basal_dendrite_frac_intersect_axon',\n",
       " 'basal_dendrite_max_branch_order',\n",
       " 'basal_dendrite_max_euclidean_distance',\n",
       " 'basal_dendrite_max_path_distance',\n",
       " 'basal_dendrite_mean_contraction',\n",
       " 'basal_dendrite_num_branches',\n",
       " 'basal_dendrite_soma_percentile_x',\n",
       " 'basal_dendrite_soma_percentile_y',\n",
       " 'basal_dendrite_stem_exit_down',\n",
       " 'basal_dendrite_stem_exit_side',\n",
       " 'basal_dendrite_stem_exit_up',\n",
       " 'basal_dendrite_total_length',\n",
       " 'soma_aligned_dist_from_pia']"
      ]
     },
     "execution_count": 6,
     "metadata": {},
     "output_type": "execute_result"
    }
   ],
   "source": [
    "all_feature_columns"
   ]
  },
  {
   "cell_type": "code",
   "execution_count": 7,
   "metadata": {},
   "outputs": [],
   "source": [
    "label_column = 'MET-type Label'\n",
    "X_df = merged_features.copy()\n",
    "\n",
    "label_count_dict = X_df[label_column].value_counts().to_dict()\n",
    "below_cutoff = [k for k,v in label_count_dict.items() if int(v) < 5]\n",
    "\n",
    "X_df = X_df[~X_df[label_column].isin(below_cutoff)]\n",
    "X_df = X_df[~X_df[label_column].isnull()]\n",
    "\n",
    "\n",
    "# Feature selection \n",
    "clf = RandomForestClassifier(n_estimators=100)\n",
    "clf.fit(X_df[all_feature_columns], X_df[label_column])\n",
    "\n",
    "feature_importances = clf.feature_importances_\n",
    "feature_importance_series = pd.Series(feature_importances, index=all_feature_columns).sort_values(ascending=False)\n",
    "\n",
    "selected_features_importance = feature_importance_series.index.tolist()[:-10]  \n",
    "dropped_features = feature_importance_series.index.tolist()[-10:]\n",
    "feature_cols = selected_features_importance\n",
    "\n",
    "X_df = X_df[[c for c in X_df.columns if c not in dropped_features]]\n",
    "\n",
    "feat_means = X_df[feature_cols].mean()\n",
    "feat_std = X_df[feature_cols].std()\n",
    "# feature_cols = feature_columns\n",
    "X_df[feature_cols] = (X_df[feature_cols]-X_df[feature_cols].mean())/X_df[feature_cols].std()\n",
    "\n",
    "\n",
    "X = X_df[feature_cols].values\n",
    "y = X_df[label_column].values\n",
    "X_train, X_test, y_train, y_test = train_test_split(X_df[['cell_specimen_id']+feature_cols], \n",
    "                                                    y,\n",
    "                                                    stratify=y, \n",
    "                                                    test_size=0.2,\n",
    "                                                    random_state=42,\n",
    "                                                   shuffle=True)\n",
    "\n",
    "training_ids = X_train['cell_specimen_id'].values\n",
    "testing_ids = X_test['cell_specimen_id'].values\n",
    "\n",
    "X_train = X_train[feature_cols].values\n",
    "X_test = X_test[feature_cols].values\n",
    "\n",
    "assert len(np.unique(y_train)) == len(np.unique(y_test))"
   ]
  },
  {
   "cell_type": "code",
   "execution_count": null,
   "metadata": {},
   "outputs": [],
   "source": []
  },
  {
   "cell_type": "code",
   "execution_count": null,
   "metadata": {},
   "outputs": [],
   "source": []
  },
  {
   "cell_type": "code",
   "execution_count": null,
   "metadata": {},
   "outputs": [],
   "source": []
  },
  {
   "cell_type": "code",
   "execution_count": 10,
   "metadata": {},
   "outputs": [],
   "source": [
    "# pd.DataFrame(selected_features_importance, columns=['features_included_after_feature_selection']).to_csv(\"FeatureSelectionWithoutRadius.csv\")\n"
   ]
  },
  {
   "cell_type": "code",
   "execution_count": 9,
   "metadata": {},
   "outputs": [],
   "source": [
    "# select_with_rad = pd.read_csv(\"FeatureSelectionWithRadius.csv\")\n",
    "# select_without_rad = pd.read_csv(\"FeatureSelectionWithoutRadius.csv\")\n",
    "# set(select_with_rad['features_included_after_feature_selection'].values) - set(select_without_rad['features_included_after_feature_selection'].values)"
   ]
  },
  {
   "cell_type": "code",
   "execution_count": 8,
   "metadata": {},
   "outputs": [],
   "source": [
    "\n",
    "# set(select_without_rad['features_included_after_feature_selection'].values) - set(select_with_rad['features_included_after_feature_selection'].values)"
   ]
  },
  {
   "cell_type": "code",
   "execution_count": null,
   "metadata": {},
   "outputs": [],
   "source": []
  },
  {
   "cell_type": "code",
   "execution_count": 13,
   "metadata": {},
   "outputs": [],
   "source": [
    "\n",
    "#logisitic regression\n",
    "logreg_penalty = [\"l1\",\"l2\",\"elasticnet\",None]\n",
    "logreg_C = [0.001, 0.005, 0.01, 0.0125, 0.015, 0.025, 0.05, 0.1, 0.25, 1, 5,10]\n",
    "logreg_intercept_scaling = [1,1.5,2,3,]\n",
    "logreg_class_weight = ['balanced']\n",
    "logreg_l1_ratio = [0.25,0.5,0.75]\n",
    "\n",
    "logreg_grid = {\n",
    "    \"penalty\":logreg_penalty,\n",
    "    \"C\":logreg_C,\n",
    "    \"intercept_scaling\":logreg_intercept_scaling,\n",
    "    \"class_weight\":logreg_class_weight,\n",
    "    \"l1_ratio\":logreg_l1_ratio\n",
    "}\n",
    "\n",
    "\n",
    "#SVM\n",
    "svm_c = [0.00005, 0.0001, 0.0005,0.001, 0.0025, 0.005 , 0.0075, 0.01, 0.015, 0.025, 0.05, 0.1, 0.25, 1, 5,10]\n",
    "svm_kernel_params = [\"linear\", \"rbf\", 'poly','sigmoid'] \n",
    "svm_poly_degree = [3,4,5,6]\n",
    "svm_gamma = [\"scale\", \"auto\"]\n",
    "svm_class_weight = ['balanced']\n",
    "probability = [True]\n",
    "svm_grid = {\n",
    "    \"C\":svm_c,\n",
    "    \"kernel\":svm_kernel_params,\n",
    "    \"degree\":svm_poly_degree,\n",
    "    \"gamma\":svm_gamma,\n",
    "    \"class_weight\":svm_class_weight,\n",
    "    \"probability\":probability,\n",
    "}\n",
    "\n",
    "#Random Forest\n",
    "rfc_n_estimators = [5,10,15,25,40,50,75,150,250] \n",
    "rfc_max_features = ['sqrt', None]\n",
    "rfc_max_depth = [2,3,5,10,20,35,50,100,None]\n",
    "rfc_min_samples_split = [5,10,20,25]\n",
    "rfc_min_samples_leaf = [5, 10,15,25]\n",
    "rfc_bootstrap = [True]\n",
    "rfc_class_weight= ['balanced']\n",
    "\n",
    "rfc_random_grid = {\n",
    "    'n_estimators': rfc_n_estimators,\n",
    "    'max_features': rfc_max_features,\n",
    "    'max_depth': rfc_max_depth,\n",
    "    'min_samples_split': rfc_min_samples_split,\n",
    "    'min_samples_leaf': rfc_min_samples_leaf,\n",
    "    'bootstrap': rfc_bootstrap,\n",
    "    'class_weight':rfc_class_weight,\n",
    "}\n",
    "\n",
    "\n",
    "\n",
    "\n",
    "\n",
    "meta_config_dict = {\n",
    "        \n",
    "    \"LogisticRegression\": {\n",
    "        \"sklearn_classifier\":LogisticRegression(),\n",
    "        \"parameter_grid\":logreg_grid,\n",
    "    },\n",
    "        \n",
    "     \"SupportVector\": {\n",
    "        \"sklearn_classifier\":SVC(),\n",
    "        \"parameter_grid\":svm_grid,\n",
    "    },\n",
    "    \n",
    "    \"RandomForest\": {    \n",
    "        \"sklearn_classifier\":RandomForestClassifier(),\n",
    "        \"parameter_grid\":rfc_random_grid,\n",
    "    },\n",
    "}"
   ]
  },
  {
   "cell_type": "code",
   "execution_count": null,
   "metadata": {},
   "outputs": [],
   "source": []
  },
  {
   "cell_type": "code",
   "execution_count": 8,
   "metadata": {
    "scrolled": true
   },
   "outputs": [
    {
     "name": "stdout",
     "output_type": "stream",
     "text": [
      "\n",
      "\n",
      "\n",
      "\n",
      "META ITERATION 0\n",
      "\n",
      "\n",
      "\n",
      "\n",
      "\n",
      "LogisticRegression\n",
      "\n",
      "Fitting 5 folds for each of 500 candidates, totalling 2500 fits\n"
     ]
    },
    {
     "name": "stderr",
     "output_type": "stream",
     "text": [
      "[Parallel(n_jobs=-1)]: Using backend LokyBackend with 8 concurrent workers.\n",
      "[Parallel(n_jobs=-1)]: Done  25 tasks      | elapsed:    3.6s\n",
      "[Parallel(n_jobs=-1)]: Done 984 tasks      | elapsed:    8.1s\n",
      "[Parallel(n_jobs=-1)]: Done 2500 out of 2500 | elapsed:   13.5s finished\n",
      "C:\\Users\\matt.mallory\\AppData\\Local\\Continuum\\anaconda3\\envs\\new_neuron_morph_no_bug\\lib\\site-packages\\sklearn\\linear_model\\_logistic.py:1317: UserWarning: l1_ratio parameter is only used when penalty is 'elasticnet'. Got (penalty=l2)\n",
      "  \"(penalty={})\".format(self.penalty))\n"
     ]
    },
    {
     "name": "stdout",
     "output_type": "stream",
     "text": [
      "Best Classifier CV Results:\n",
      "\n",
      "Train Acc: 0.9002545297670406+/-0.011359155398112006\n",
      "Test Acc: 0.5932672590567327+/-0.025989176068739583\n",
      "Hold-Out Validation Acc: 0.625\n",
      "\n",
      "\n",
      "\n"
     ]
    },
    {
     "data": {
      "image/png": "[encoded data removed]",
      "text/plain": [
       "<Figure size 432x288 with 1 Axes>"
      ]
     },
     "metadata": {
      "needs_background": "light"
     },
     "output_type": "display_data"
    },
    {
     "name": "stdout",
     "output_type": "stream",
     "text": [
      "\"Best\" classifier parameters:\n",
      "LogisticRegression(C=0.25, class_weight='balanced', intercept_scaling=1.5,\n",
      "                   l1_ratio=0.75)\n",
      "None\n",
      "\n",
      "\n",
      "\n",
      "SupportVector\n",
      "\n",
      "Fitting 5 folds for each of 500 candidates, totalling 2500 fits\n"
     ]
    },
    {
     "name": "stderr",
     "output_type": "stream",
     "text": [
      "[Parallel(n_jobs=-1)]: Using backend LokyBackend with 8 concurrent workers.\n",
      "[Parallel(n_jobs=-1)]: Done  34 tasks      | elapsed:    0.9s\n",
      "[Parallel(n_jobs=-1)]: Done 276 tasks      | elapsed:    6.7s\n",
      "[Parallel(n_jobs=-1)]: Done 682 tasks      | elapsed:   14.5s\n",
      "[Parallel(n_jobs=-1)]: Done 1248 tasks      | elapsed:   27.2s\n",
      "[Parallel(n_jobs=-1)]: Done 1978 tasks      | elapsed:   41.0s\n",
      "[Parallel(n_jobs=-1)]: Done 2500 out of 2500 | elapsed:   50.4s finished\n"
     ]
    },
    {
     "name": "stdout",
     "output_type": "stream",
     "text": [
      "Best Classifier CV Results:\n",
      "\n",
      "Train Acc: 0.9206039689387403+/-0.006353114881377194\n",
      "Test Acc: 0.5773752563226248+/-0.020295515433559685\n",
      "Hold-Out Validation Acc: 0.6458333333333334\n",
      "\n",
      "\n",
      "\n"
     ]
    },
    {
     "data": {
      "image/png": "[encoded data removed]",
      "text/plain": [
       "<Figure size 432x288 with 1 Axes>"
      ]
     },
     "metadata": {
      "needs_background": "light"
     },
     "output_type": "display_data"
    },
    {
     "name": "stdout",
     "output_type": "stream",
     "text": [
      "\"Best\" classifier parameters:\n",
      "SVC(C=0.1, class_weight='balanced', kernel='linear', probability=True)\n",
      "None\n",
      "\n",
      "\n",
      "\n",
      "RandomForest\n",
      "\n",
      "Fitting 5 folds for each of 500 candidates, totalling 2500 fits\n"
     ]
    },
    {
     "name": "stderr",
     "output_type": "stream",
     "text": [
      "[Parallel(n_jobs=-1)]: Using backend LokyBackend with 8 concurrent workers.\n",
      "[Parallel(n_jobs=-1)]: Done  34 tasks      | elapsed:    1.1s\n",
      "[Parallel(n_jobs=-1)]: Done 186 tasks      | elapsed:    9.5s\n",
      "[Parallel(n_jobs=-1)]: Done 389 tasks      | elapsed:   18.5s\n",
      "[Parallel(n_jobs=-1)]: Done 672 tasks      | elapsed:   38.8s\n",
      "[Parallel(n_jobs=-1)]: Done 1037 tasks      | elapsed:  1.0min\n",
      "[Parallel(n_jobs=-1)]: Done 1522 tasks      | elapsed:  1.5min\n",
      "[Parallel(n_jobs=-1)]: Done 2081 tasks      | elapsed:  2.1min\n",
      "[Parallel(n_jobs=-1)]: Done 2500 out of 2500 | elapsed:  2.5min finished\n"
     ]
    },
    {
     "name": "stdout",
     "output_type": "stream",
     "text": [
      "Best Classifier CV Results:\n",
      "\n",
      "Train Acc: 0.9271678170836928+/-0.009574447320235718\n",
      "Test Acc: 0.6010936431989065+/-0.016652196368106106\n",
      "Hold-Out Validation Acc: 0.5625\n",
      "\n",
      "\n",
      "\n"
     ]
    },
    {
     "data": {
      "image/png": "[encoded data removed]",
      "text/plain": [
       "<Figure size 432x288 with 1 Axes>"
      ]
     },
     "metadata": {
      "needs_background": "light"
     },
     "output_type": "display_data"
    },
    {
     "name": "stdout",
     "output_type": "stream",
     "text": [
      "\"Best\" classifier parameters:\n",
      "RandomForestClassifier(class_weight='balanced', max_depth=50,\n",
      "                       max_features='sqrt', min_samples_leaf=5,\n",
      "                       min_samples_split=10, n_estimators=75)\n",
      "None\n",
      "\n",
      "\n",
      "\n",
      "\n",
      "\n",
      "\n",
      "\n",
      "META ITERATION 1\n",
      "\n",
      "\n",
      "\n",
      "\n",
      "\n",
      "LogisticRegression\n",
      "\n",
      "Fitting 5 folds for each of 500 candidates, totalling 2500 fits\n"
     ]
    },
    {
     "name": "stderr",
     "output_type": "stream",
     "text": [
      "[Parallel(n_jobs=-1)]: Using backend LokyBackend with 8 concurrent workers.\n",
      "[Parallel(n_jobs=-1)]: Done  34 tasks      | elapsed:    0.1s\n",
      "[Parallel(n_jobs=-1)]: Done 1360 tasks      | elapsed:    5.3s\n",
      "[Parallel(n_jobs=-1)]: Done 2500 out of 2500 | elapsed:    9.1s finished\n",
      "C:\\Users\\matt.mallory\\AppData\\Local\\Continuum\\anaconda3\\envs\\new_neuron_morph_no_bug\\lib\\site-packages\\sklearn\\linear_model\\_logistic.py:1317: UserWarning: l1_ratio parameter is only used when penalty is 'elasticnet'. Got (penalty=l2)\n",
      "  \"(penalty={})\".format(self.penalty))\n",
      "C:\\Users\\matt.mallory\\AppData\\Local\\Continuum\\anaconda3\\envs\\new_neuron_morph_no_bug\\lib\\site-packages\\sklearn\\linear_model\\_logistic.py:764: ConvergenceWarning: lbfgs failed to converge (status=1):\n",
      "STOP: TOTAL NO. of ITERATIONS REACHED LIMIT.\n",
      "\n",
      "Increase the number of iterations (max_iter) or scale the data as shown in:\n",
      "    https://scikit-learn.org/stable/modules/preprocessing.html\n",
      "Please also refer to the documentation for alternative solver options:\n",
      "    https://scikit-learn.org/stable/modules/linear_model.html#logistic-regression\n",
      "  extra_warning_msg=_LOGISTIC_SOLVER_CONVERGENCE_MSG)\n"
     ]
    },
    {
     "name": "stdout",
     "output_type": "stream",
     "text": [
      "Best Classifier CV Results:\n",
      "\n",
      "Train Acc: 0.9645599654874892+/-0.008435401465772173\n",
      "Test Acc: 0.5823308270676691+/-0.07454044481237808\n",
      "Hold-Out Validation Acc: 0.5729166666666666\n",
      "\n",
      "\n",
      "\n"
     ]
    },
    {
     "data": {
      "image/png": "[encoded data removed]",
      "text/plain": [
       "<Figure size 432x288 with 1 Axes>"
      ]
     },
     "metadata": {
      "needs_background": "light"
     },
     "output_type": "display_data"
    },
    {
     "name": "stdout",
     "output_type": "stream",
     "text": [
      "\"Best\" classifier parameters:\n",
      "LogisticRegression(C=1, class_weight='balanced', intercept_scaling=3,\n",
      "                   l1_ratio=0.75)\n",
      "None\n",
      "\n",
      "\n",
      "\n",
      "SupportVector\n",
      "\n",
      "Fitting 5 folds for each of 500 candidates, totalling 2500 fits\n"
     ]
    },
    {
     "name": "stderr",
     "output_type": "stream",
     "text": [
      "[Parallel(n_jobs=-1)]: Using backend LokyBackend with 8 concurrent workers.\n",
      "[Parallel(n_jobs=-1)]: Done  34 tasks      | elapsed:    0.9s\n",
      "[Parallel(n_jobs=-1)]: Done 276 tasks      | elapsed:    5.9s\n",
      "[Parallel(n_jobs=-1)]: Done 682 tasks      | elapsed:   14.7s\n",
      "[Parallel(n_jobs=-1)]: Done 1248 tasks      | elapsed:   26.8s\n",
      "[Parallel(n_jobs=-1)]: Done 1978 tasks      | elapsed:   42.3s\n",
      "[Parallel(n_jobs=-1)]: Done 2500 out of 2500 | elapsed:   54.3s finished\n"
     ]
    },
    {
     "name": "stdout",
     "output_type": "stream",
     "text": [
      "Best Classifier CV Results:\n",
      "\n",
      "Train Acc: 0.8969715271786022+/-0.010399252916004107\n",
      "Test Acc: 0.5667805878332193+/-0.03864322172685435\n",
      "Hold-Out Validation Acc: 0.5729166666666666\n",
      "\n",
      "\n",
      "\n"
     ]
    },
    {
     "data": {
      "image/png": "[encoded data removed]",
      "text/plain": [
       "<Figure size 432x288 with 1 Axes>"
      ]
     },
     "metadata": {
      "needs_background": "light"
     },
     "output_type": "display_data"
    },
    {
     "name": "stdout",
     "output_type": "stream",
     "text": [
      "\"Best\" classifier parameters:\n",
      "SVC(C=1, class_weight='balanced', degree=5, probability=True)\n",
      "None\n",
      "\n",
      "\n",
      "\n",
      "RandomForest\n",
      "\n",
      "Fitting 5 folds for each of 500 candidates, totalling 2500 fits\n"
     ]
    },
    {
     "name": "stderr",
     "output_type": "stream",
     "text": [
      "[Parallel(n_jobs=-1)]: Using backend LokyBackend with 8 concurrent workers.\n",
      "[Parallel(n_jobs=-1)]: Done  34 tasks      | elapsed:    1.5s\n",
      "[Parallel(n_jobs=-1)]: Done 186 tasks      | elapsed:   11.0s\n",
      "[Parallel(n_jobs=-1)]: Done 389 tasks      | elapsed:   20.8s\n",
      "[Parallel(n_jobs=-1)]: Done 672 tasks      | elapsed:   40.8s\n",
      "[Parallel(n_jobs=-1)]: Done 1037 tasks      | elapsed:  1.1min\n",
      "[Parallel(n_jobs=-1)]: Done 1482 tasks      | elapsed:  1.6min\n",
      "[Parallel(n_jobs=-1)]: Done 2081 tasks      | elapsed:  2.1min\n",
      "[Parallel(n_jobs=-1)]: Done 2500 out of 2500 | elapsed:  2.5min finished\n"
     ]
    },
    {
     "name": "stdout",
     "output_type": "stream",
     "text": [
      "Best Classifier CV Results:\n",
      "\n",
      "Train Acc: 0.9337338222605694+/-0.009091444069504415\n",
      "Test Acc: 0.5930622009569377+/-0.03641082307369496\n",
      "Hold-Out Validation Acc: 0.6041666666666666\n",
      "\n",
      "\n",
      "\n"
     ]
    },
    {
     "data": {
      "image/png": "[encoded data removed]",
      "text/plain": [
       "<Figure size 432x288 with 1 Axes>"
      ]
     },
     "metadata": {
      "needs_background": "light"
     },
     "output_type": "display_data"
    },
    {
     "name": "stdout",
     "output_type": "stream",
     "text": [
      "\"Best\" classifier parameters:\n",
      "RandomForestClassifier(class_weight='balanced', max_depth=10,\n",
      "                       max_features='sqrt', min_samples_leaf=5,\n",
      "                       min_samples_split=10, n_estimators=250)\n",
      "None\n",
      "\n",
      "\n",
      "\n",
      "\n",
      "\n",
      "\n",
      "\n",
      "META ITERATION 2\n",
      "\n",
      "\n",
      "\n",
      "\n",
      "\n",
      "LogisticRegression\n",
      "\n",
      "Fitting 5 folds for each of 500 candidates, totalling 2500 fits\n"
     ]
    },
    {
     "name": "stderr",
     "output_type": "stream",
     "text": [
      "[Parallel(n_jobs=-1)]: Using backend LokyBackend with 8 concurrent workers.\n",
      "[Parallel(n_jobs=-1)]: Done  34 tasks      | elapsed:    0.0s\n",
      "[Parallel(n_jobs=-1)]: Done 896 tasks      | elapsed:    2.9s\n",
      "[Parallel(n_jobs=-1)]: Done 2464 tasks      | elapsed:    9.2s\n",
      "[Parallel(n_jobs=-1)]: Done 2485 out of 2500 | elapsed:    9.3s remaining:    0.0s\n",
      "[Parallel(n_jobs=-1)]: Done 2500 out of 2500 | elapsed:    9.3s finished\n",
      "C:\\Users\\matt.mallory\\AppData\\Local\\Continuum\\anaconda3\\envs\\new_neuron_morph_no_bug\\lib\\site-packages\\sklearn\\linear_model\\_logistic.py:1317: UserWarning: l1_ratio parameter is only used when penalty is 'elasticnet'. Got (penalty=l2)\n",
      "  \"(penalty={})\".format(self.penalty))\n",
      "C:\\Users\\matt.mallory\\AppData\\Local\\Continuum\\anaconda3\\envs\\new_neuron_morph_no_bug\\lib\\site-packages\\sklearn\\linear_model\\_logistic.py:764: ConvergenceWarning: lbfgs failed to converge (status=1):\n",
      "STOP: TOTAL NO. of ITERATIONS REACHED LIMIT.\n",
      "\n",
      "Increase the number of iterations (max_iter) or scale the data as shown in:\n",
      "    https://scikit-learn.org/stable/modules/preprocessing.html\n",
      "Please also refer to the documentation for alternative solver options:\n",
      "    https://scikit-learn.org/stable/modules/linear_model.html#logistic-regression\n",
      "  extra_warning_msg=_LOGISTIC_SOLVER_CONVERGENCE_MSG)\n"
     ]
    },
    {
     "name": "stdout",
     "output_type": "stream",
     "text": [
      "Best Classifier CV Results:\n",
      "\n",
      "Train Acc: 0.9678429680759274+/-0.01217757449610849\n",
      "Test Acc: 0.5719753930280247+/-0.04293009388016295\n",
      "Hold-Out Validation Acc: 0.5833333333333334\n",
      "\n",
      "\n",
      "\n"
     ]
    },
    {
     "data": {
      "image/png": "[encoded data removed]",
      "text/plain": [
       "<Figure size 432x288 with 1 Axes>"
      ]
     },
     "metadata": {
      "needs_background": "light"
     },
     "output_type": "display_data"
    },
    {
     "name": "stdout",
     "output_type": "stream",
     "text": [
      "\"Best\" classifier parameters:\n",
      "LogisticRegression(C=1, class_weight='balanced', intercept_scaling=3,\n",
      "                   l1_ratio=0.75)\n",
      "None\n",
      "\n",
      "\n",
      "\n",
      "SupportVector\n",
      "\n",
      "Fitting 5 folds for each of 500 candidates, totalling 2500 fits\n"
     ]
    },
    {
     "name": "stderr",
     "output_type": "stream",
     "text": [
      "[Parallel(n_jobs=-1)]: Using backend LokyBackend with 8 concurrent workers.\n",
      "[Parallel(n_jobs=-1)]: Done  34 tasks      | elapsed:    0.8s\n",
      "[Parallel(n_jobs=-1)]: Done 276 tasks      | elapsed:    5.9s\n",
      "[Parallel(n_jobs=-1)]: Done 682 tasks      | elapsed:   13.3s\n",
      "[Parallel(n_jobs=-1)]: Done 1248 tasks      | elapsed:   24.3s\n",
      "[Parallel(n_jobs=-1)]: Done 1978 tasks      | elapsed:   38.1s\n",
      "[Parallel(n_jobs=-1)]: Done 2500 out of 2500 | elapsed:   47.8s finished\n"
     ]
    },
    {
     "name": "stdout",
     "output_type": "stream",
     "text": [
      "Best Classifier CV Results:\n",
      "\n",
      "Train Acc: 0.9934404659188957+/-0.002930138715579358\n",
      "Test Acc: 0.5904306220095694+/-0.04824950226202575\n",
      "Hold-Out Validation Acc: 0.6041666666666666\n",
      "\n",
      "\n",
      "\n"
     ]
    },
    {
     "data": {
      "image/png": "[encoded data removed]",
      "text/plain": [
       "<Figure size 432x288 with 1 Axes>"
      ]
     },
     "metadata": {
      "needs_background": "light"
     },
     "output_type": "display_data"
    },
    {
     "name": "stdout",
     "output_type": "stream",
     "text": [
      "\"Best\" classifier parameters:\n",
      "SVC(C=5, class_weight='balanced', degree=6, probability=True)\n",
      "None\n",
      "\n",
      "\n",
      "\n",
      "RandomForest\n",
      "\n",
      "Fitting 5 folds for each of 500 candidates, totalling 2500 fits\n"
     ]
    },
    {
     "name": "stderr",
     "output_type": "stream",
     "text": [
      "[Parallel(n_jobs=-1)]: Using backend LokyBackend with 8 concurrent workers.\n",
      "[Parallel(n_jobs=-1)]: Done  34 tasks      | elapsed:    1.0s\n",
      "[Parallel(n_jobs=-1)]: Done 196 tasks      | elapsed:    9.0s\n",
      "[Parallel(n_jobs=-1)]: Done 501 tasks      | elapsed:   25.9s\n",
      "[Parallel(n_jobs=-1)]: Done 784 tasks      | elapsed:   44.3s\n",
      "[Parallel(n_jobs=-1)]: Done 1197 tasks      | elapsed:  1.2min\n",
      "[Parallel(n_jobs=-1)]: Done 1642 tasks      | elapsed:  1.6min\n",
      "[Parallel(n_jobs=-1)]: Done 2169 tasks      | elapsed:  2.1min\n",
      "[Parallel(n_jobs=-1)]: Done 2500 out of 2500 | elapsed:  2.4min finished\n"
     ]
    },
    {
     "name": "stdout",
     "output_type": "stream",
     "text": [
      "Best Classifier CV Results:\n",
      "\n",
      "Train Acc: 0.9442234685073337+/-0.013124686874796582\n",
      "Test Acc: 0.5773752563226248+/-0.05453654569662397\n",
      "Hold-Out Validation Acc: 0.59375\n",
      "\n",
      "\n",
      "\n"
     ]
    },
    {
     "data": {
      "image/png": "[encoded data removed]",
      "text/plain": [
       "<Figure size 432x288 with 1 Axes>"
      ]
     },
     "metadata": {
      "needs_background": "light"
     },
     "output_type": "display_data"
    },
    {
     "name": "stdout",
     "output_type": "stream",
     "text": [
      "\"Best\" classifier parameters:\n",
      "RandomForestClassifier(class_weight='balanced', max_depth=100,\n",
      "                       max_features='sqrt', min_samples_leaf=5,\n",
      "                       min_samples_split=5, n_estimators=250)\n",
      "None\n",
      "\n",
      "\n",
      "\n"
     ]
    },
    {
     "data": {
      "text/plain": [
       "<Figure size 432x288 with 0 Axes>"
      ]
     },
     "metadata": {},
     "output_type": "display_data"
    }
   ],
   "source": [
    "meta_gs_records = {}\n",
    "for iii in range(3):\n",
    "    print(f\"\\n\\n\\n\\nMETA ITERATION {iii}\\n\\n\\n\\n\\n\")\n",
    "\n",
    "    \n",
    "    \n",
    "    # pop this in so test set is different in the three outer iterations\n",
    "    label_column = 'MET-type Label'\n",
    "    X_df = merged_features.copy()\n",
    "\n",
    "    label_count_dict = X_df[label_column].value_counts().to_dict()\n",
    "    below_cutoff = [k for k,v in label_count_dict.items() if int(v) < 5]\n",
    "\n",
    "    X_df = X_df[~X_df[label_column].isin(below_cutoff)]\n",
    "    X_df = X_df[~X_df[label_column].isnull()]\n",
    "\n",
    "    \n",
    "    # Feature selection \n",
    "#     clf = RandomForestClassifier(n_estimators=100)\n",
    "#     clf.fit(X_df[all_feature_columns], X_df[label_column])\n",
    "\n",
    "#     feature_importances = clf.feature_importances_\n",
    "#     feature_importance_series = pd.Series(feature_importances, index=all_feature_columns).sort_values(ascending=False)\n",
    "\n",
    "#     selected_features_importance = feature_importance_series.index.tolist()[:-10]  \n",
    "#     dropped_features = feature_importance_series.index.tolist()[-10:]\n",
    "#     feature_cols = selected_features_importance\n",
    "#     X_df = X_df[[c for c in X_df.columns if c not in dropped_features]]\n",
    "\n",
    "    feat_means = X_df[all_feature_columns].mean()\n",
    "    feat_std = X_df[all_feature_columns].std()\n",
    "    # feature_cols = feature_columns\n",
    "    X_df[all_feature_columns] = (X_df[all_feature_columns]-X_df[all_feature_columns].mean())/X_df[all_feature_columns].std()\n",
    "\n",
    "\n",
    "    X = X_df[all_feature_columns].values\n",
    "    y = X_df[label_column].values\n",
    "    X_train, X_test, y_train, y_test = train_test_split(X_df[['cell_specimen_id']+all_feature_columns], \n",
    "                                                        y,\n",
    "                                                        stratify=y, \n",
    "                                                        test_size=0.2,\n",
    "#                                                         random_state=42,\n",
    "                                                       shuffle=True)\n",
    "\n",
    "    training_ids = X_train['cell_specimen_id'].values\n",
    "    testing_ids = X_test['cell_specimen_id'].values\n",
    "\n",
    "    X_train = X_train[all_feature_columns].values\n",
    "    X_test = X_test[all_feature_columns].values\n",
    "\n",
    "    assert len(np.unique(y_train)) == len(np.unique(y_test))\n",
    "\n",
    "    # pop this in so test set is different in the three outer iterations   \n",
    "    \n",
    "    \n",
    "    \n",
    "    gs_records = {}\n",
    "    for name, config_dict in meta_config_dict.items():   \n",
    "        print(name)\n",
    "        print()\n",
    "        grid_params = config_dict['parameter_grid']\n",
    "        this_estimator = config_dict['sklearn_classifier']\n",
    "        this_gs = RandomizedSearchCV(estimator = this_estimator, \n",
    "                           param_distributions = grid_params, \n",
    "                           n_iter = 500, \n",
    "                           cv = 5, \n",
    "                           verbose=2,\n",
    "                           random_state=42, \n",
    "                          return_train_score=True,\n",
    "                           n_jobs = -1)\n",
    "\n",
    "        this_gs.fit(X_train,y_train)\n",
    "\n",
    "        gs_records[name]=this_gs\n",
    "\n",
    "\n",
    "        best_idx = this_gs.best_index_\n",
    "\n",
    "        best_test_score_mean = this_gs.cv_results_['mean_test_score'][best_idx]\n",
    "        best_test_score_std = this_gs.cv_results_['std_test_score'][best_idx]\n",
    "\n",
    "        best_train_score_mean = this_gs.cv_results_['mean_train_score'][best_idx]\n",
    "        best_train_score_std = this_gs.cv_results_['std_train_score'][best_idx]\n",
    "\n",
    "        best_clf_validation_acc = this_gs.best_estimator_.score(X_test, y_test)\n",
    "\n",
    "        print(\"Best Classifier CV Results:\\n\")\n",
    "        print(\"Train Acc: {}+/-{}\".format(best_train_score_mean,best_train_score_std))\n",
    "        print(\"Test Acc: {}+/-{}\".format(best_test_score_mean,best_test_score_std))\n",
    "        print(\"Hold-Out Validation Acc: {}\".format(best_clf_validation_acc))\n",
    "        print('\\n\\n')\n",
    "\n",
    "        gs_df = pd.DataFrame(this_gs.cv_results_)\n",
    "\n",
    "        gs_df = gs_df[~gs_df['mean_test_score'].isnull()]\n",
    "        gs_df = gs_df.sort_values(by='mean_test_score')\n",
    "        plt.plot(range(len(gs_df)), gs_df['mean_train_score'],label='train')\n",
    "        plt.plot(range(len(gs_df)),gs_df['mean_test_score'],label='test')\n",
    "        plt.axhline(best_clf_validation_acc,c='green',label='Best Clf Hold-Out Validation')\n",
    "        plt.title(name)\n",
    "        plt.ylabel(\"Accuracy\")\n",
    "        plt.legend()\n",
    "        plt.xlabel(\"GridSearch Epoch\")\n",
    "        plt.show()\n",
    "        plt.clf()\n",
    "        print('\"Best\" classifier parameters:')\n",
    "        print(print(this_gs.best_estimator_))\n",
    "        print(\"\\n\\n\")\n",
    "        \n",
    "    meta_gs_records[iii] = gs_records"
   ]
  },
  {
   "cell_type": "code",
   "execution_count": 9,
   "metadata": {},
   "outputs": [],
   "source": [
    "meta_records = {\n",
    "    \n",
    "    \"Logistic-Regression\":{\n",
    "        \"Train Acc\":[0.9002545297670406,  0.9645599654874892, 0.9678429680759274],\n",
    "        \"Cross-Validation Acc\": [0.5932672590567327, 0.5823308270676691, 0.5719753930280247],\n",
    "        \"Hold-Out Acc\":[0.625, 0.57291666666666, 0.5833333333333334]\n",
    "    },\n",
    "    \n",
    "     \"Support-Vector\":{\n",
    "        \"Train Acc\":[0.9206039689387403, 0.8969715271786022, 0.9934404659188957 ],\n",
    "        \"Cross-Validation Acc\": [0.5773752563226248, 0.5667805878332193,  0.5904306220095694],\n",
    "        \"Hold-Out Acc\":[0.6458333333333334, 0.5729166666666666, 0.6041666666666666]\n",
    "    },\n",
    "    \n",
    "     \"RandomForest\":{\n",
    "        \"Train Acc\":[0.9271678170836928, 0.9337338222605694, 0.9442234685073337, ],\n",
    "        \"Cross-Validation Acc\": [0.6010936431989065, 0.5930622009569377, 0.5773752563226248],\n",
    "        \"Hold-Out Acc\":[0.5625, 0.6041666666666666, 0.59375]\n",
    "    }\n",
    "}\n"
   ]
  },
  {
   "cell_type": "code",
   "execution_count": 33,
   "metadata": {},
   "outputs": [],
   "source": [
    "from matplotlib import cm\n",
    "cm.cmap"
   ]
  },
  {
   "cell_type": "code",
   "execution_count": null,
   "metadata": {},
   "outputs": [],
   "source": []
  },
  {
   "cell_type": "code",
   "execution_count": 37,
   "metadata": {},
   "outputs": [
    {
     "data": {
      "text/plain": [
       "<matplotlib.legend.Legend at 0x1e7e5421ac8>"
      ]
     },
     "execution_count": 37,
     "metadata": {},
     "output_type": "execute_result"
    },
    {
     "data": {
      "image/png": "[encoded data removed]",
      "text/plain": [
       "<Figure size 432x288 with 1 Axes>"
      ]
     },
     "metadata": {
      "needs_background": "light"
     },
     "output_type": "display_data"
    }
   ],
   "source": [
    "fig,axe=plt.gcf(),plt.gca()\n",
    "for method, method_dict in meta_records.items():\n",
    "    variance = np.array(method_dict['Train Acc'])-np.array(method_dict['Hold-Out Acc'])\n",
    "    axe.plot(variance,label=method)\n",
    "axe.legend()    "
   ]
  },
  {
   "cell_type": "code",
   "execution_count": 38,
   "metadata": {},
   "outputs": [
    {
     "data": {
      "text/plain": [
       "<matplotlib.legend.Legend at 0x1e7e7e487f0>"
      ]
     },
     "execution_count": 38,
     "metadata": {},
     "output_type": "execute_result"
    },
    {
     "data": {
      "image/png": "[encoded data removed]",
      "text/plain": [
       "<Figure size 432x288 with 1 Axes>"
      ]
     },
     "metadata": {
      "needs_background": "light"
     },
     "output_type": "display_data"
    }
   ],
   "source": [
    "fig,axe=plt.gcf(), plt.gca()\n",
    "for method, method_dict in meta_records.items():\n",
    "    \n",
    "#     variance = np.array(method_dict['Train Acc'])-np.array(method_dict['Hold-Out Acc'])\n",
    "#     axe.plot(variance,label=method)\n",
    "    axe.plot(method_dict['Hold-Out Acc'],label=method)\n",
    "axe.legend()    "
   ]
  },
  {
   "cell_type": "code",
   "execution_count": null,
   "metadata": {},
   "outputs": [],
   "source": []
  },
  {
   "cell_type": "code",
   "execution_count": null,
   "metadata": {},
   "outputs": [],
   "source": []
  },
  {
   "cell_type": "code",
   "execution_count": 53,
   "metadata": {},
   "outputs": [
    {
     "name": "stdout",
     "output_type": "stream",
     "text": [
      "{'n_estimators': 250, 'min_samples_split': 10, 'min_samples_leaf': 5, 'max_features': 'sqrt', 'max_depth': 10, 'class_weight': 'balanced', 'bootstrap': True}\n"
     ]
    }
   ],
   "source": [
    "# CHOOSING THE RFC THAT HAD THE HIGHEST TEST ACC\n",
    "\n",
    "chosen_random_forest_gs = meta_gs_records[1]['RandomForest']\n",
    "\n",
    "best_parameters = chosen_random_forest_gs.best_params_\n",
    "print(best_parameters)"
   ]
  },
  {
   "cell_type": "code",
   "execution_count": 7,
   "metadata": {},
   "outputs": [],
   "source": [
    "best_parameters ={'bootstrap': True,\n",
    " 'ccp_alpha': 0.0,\n",
    " 'class_weight': 'balanced',\n",
    " 'criterion': 'gini',\n",
    " 'max_depth': 10,\n",
    " 'max_features': 'sqrt',\n",
    " 'max_leaf_nodes': None,\n",
    " 'max_samples': None,\n",
    " 'min_impurity_decrease': 0.0,\n",
    " 'min_impurity_split': None,\n",
    " 'min_samples_leaf': 5,\n",
    " 'min_samples_split': 10,\n",
    " 'min_weight_fraction_leaf': 0.0,\n",
    " 'n_estimators': 250,\n",
    " 'n_jobs': None,\n",
    " 'oob_score': False,\n",
    " 'random_state': None,\n",
    " 'verbose': 0,\n",
    " 'warm_start': False}"
   ]
  },
  {
   "cell_type": "code",
   "execution_count": 57,
   "metadata": {},
   "outputs": [
    {
     "data": {
      "text/plain": [
       "{'bootstrap': True,\n",
       " 'ccp_alpha': 0.0,\n",
       " 'class_weight': 'balanced',\n",
       " 'criterion': 'gini',\n",
       " 'max_depth': 10,\n",
       " 'max_features': 'sqrt',\n",
       " 'max_leaf_nodes': None,\n",
       " 'max_samples': None,\n",
       " 'min_impurity_decrease': 0.0,\n",
       " 'min_impurity_split': None,\n",
       " 'min_samples_leaf': 5,\n",
       " 'min_samples_split': 10,\n",
       " 'min_weight_fraction_leaf': 0.0,\n",
       " 'n_estimators': 250,\n",
       " 'n_jobs': None,\n",
       " 'oob_score': False,\n",
       " 'random_state': None,\n",
       " 'verbose': 0,\n",
       " 'warm_start': False}"
      ]
     },
     "execution_count": 57,
     "metadata": {},
     "output_type": "execute_result"
    }
   ],
   "source": [
    "chosen_random_forest_gs.best_estimator_.get_params()"
   ]
  },
  {
   "cell_type": "code",
   "execution_count": null,
   "metadata": {},
   "outputs": [],
   "source": []
  },
  {
   "cell_type": "code",
   "execution_count": null,
   "metadata": {},
   "outputs": [],
   "source": []
  },
  {
   "cell_type": "code",
   "execution_count": null,
   "metadata": {},
   "outputs": [],
   "source": []
  },
  {
   "cell_type": "markdown",
   "metadata": {},
   "source": [
    "# Now that we have identified optimal model params for the pseq classifier,we will generate a confusion Matrix for Chosen RFC"
   ]
  },
  {
   "cell_type": "code",
   "execution_count": null,
   "metadata": {
    "scrolled": true
   },
   "outputs": [],
   "source": []
  },
  {
   "cell_type": "code",
   "execution_count": null,
   "metadata": {
    "scrolled": true
   },
   "outputs": [],
   "source": []
  },
  {
   "cell_type": "code",
   "execution_count": null,
   "metadata": {},
   "outputs": [],
   "source": []
  },
  {
   "cell_type": "code",
   "execution_count": 105,
   "metadata": {},
   "outputs": [],
   "source": []
  },
  {
   "cell_type": "code",
   "execution_count": 8,
   "metadata": {},
   "outputs": [],
   "source": [
    "best_classifier = RandomForestClassifier(**best_parameters)\n",
    "\n",
    "pseq_data_df = merged_features.copy()\n",
    "keep_mets = [k for k,v in pseq_data_df['MET-type Label'].value_counts().to_dict().items() if v>=5]\n",
    "pseq_data_df = pseq_data_df[pseq_data_df['MET-type Label'].isin(keep_mets)]"
   ]
  },
  {
   "cell_type": "code",
   "execution_count": 9,
   "metadata": {},
   "outputs": [],
   "source": [
    "training_samples_by_met_type = pseq_data_df['MET-type Label'].value_counts().to_dict()"
   ]
  },
  {
   "cell_type": "code",
   "execution_count": null,
   "metadata": {},
   "outputs": [],
   "source": []
  },
  {
   "cell_type": "code",
   "execution_count": 12,
   "metadata": {},
   "outputs": [
    {
     "name": "stdout",
     "output_type": "stream",
     "text": [
      "-----------------------------------------------------------------\n",
      "RFC by MET-type Label\n",
      "-----------------------------------------------------------------\n",
      "\n",
      "There are 22 unique labels in the 477 cells\n",
      "\n",
      "Sst-MET-12     55\n",
      "Lamp5-MET-1    43\n",
      "Pvalb-MET-4    41\n",
      "Sncg-MET-1     32\n",
      "Pvalb-MET-2    32\n",
      "Sst-MET-3      26\n",
      "Sst-MET-13     23\n",
      "Vip-MET-1      23\n",
      "Vip-MET-5      21\n",
      "Sst-MET-2      18\n",
      "Sst-MET-6      18\n",
      "Sst-MET-8      18\n",
      "Vip-MET-4      17\n",
      "Sst-MET-1      16\n",
      "Vip-MET-2      15\n",
      "Sst-MET-4      15\n",
      "Sst-MET-9      14\n",
      "Sst-MET-5      12\n",
      "Sst-MET-7      11\n",
      "Pvalb-MET-3    10\n",
      "Sst-MET-10     10\n",
      "Pvalb-MET-1     7\n",
      "Name: MET-type Label, dtype: int64\n",
      "\n",
      "soma_aligned_dist_from_pia\n"
     ]
    },
    {
     "data": {
      "image/png": "[encoded data removed]",
      "text/plain": [
       "<Figure size 576x504 with 2 Axes>"
      ]
     },
     "metadata": {
      "needs_background": "light"
     },
     "output_type": "display_data"
    }
   ],
   "source": [
    "pseq_rfc_fig, pseq_rfc_axe, pseq_scores, pseq_cmat, pseq_raw_cmat =  clf_stratified(df=pseq_data_df,\n",
    "                                                                                   ft_cols=all_feature_columns,\n",
    "                                                                                   labels_col='MET-type Label',\n",
    "                                                                                   title='Patch-seq MET-Type Predictions', \n",
    "                                                                                   clf_obj=best_classifier, \n",
    "                                                                                   undersample_dict = {}, \n",
    "                                                                                   num_folds=5,\n",
    "                                                                                   num_outter_its=20)\n"
   ]
  },
  {
   "cell_type": "code",
   "execution_count": 16,
   "metadata": {},
   "outputs": [],
   "source": [
    "pseq_rfc_fig.savefig(\"Final_Patch_Seq_RFC_Conf_Matrix.png\",dpi=400,bbox_inches='tight')"
   ]
  },
  {
   "cell_type": "code",
   "execution_count": 14,
   "metadata": {},
   "outputs": [],
   "source": [
    "pseq_raw_cmat.to_csv(\"Final_Patch_Seq_RFC_Conf_Matrix.csv\")"
   ]
  },
  {
   "cell_type": "code",
   "execution_count": 17,
   "metadata": {},
   "outputs": [],
   "source": [
    "pseq_cmat.to_csv(\"Final_Patch_Seq_RFC_Conf_Matrix_RowNorm.csv\")"
   ]
  },
  {
   "cell_type": "code",
   "execution_count": null,
   "metadata": {},
   "outputs": [],
   "source": []
  },
  {
   "cell_type": "markdown",
   "metadata": {},
   "source": [
    "# Use the above classifier to predict labels for EM data"
   ]
  },
  {
   "cell_type": "code",
   "execution_count": 85,
   "metadata": {},
   "outputs": [],
   "source": [
    "em_feature_df = pd.read_csv(\"../Resubmission_092823_FinalSWCs/FinalFeatsResamp/RawFeatureWide.csv\")\n",
    "best_classifier = RandomForestClassifier(**best_parameters)\n"
   ]
  },
  {
   "cell_type": "code",
   "execution_count": 91,
   "metadata": {},
   "outputs": [
    {
     "name": "stderr",
     "output_type": "stream",
     "text": [
      "100%|████████████████████████████████████████████████████████████████████████████████| 500/500 [06:14<00:00,  1.33it/s]\n"
     ]
    }
   ],
   "source": [
    "em_met_result_df, em_results, em_all_accuracies = predict_labels_with_probability(source_dataframe=pseq_data_df,\n",
    "                                                                                prediction_dataframe=em_feature_df,\n",
    "                                                                                prediction_id_column='specimen_id',\n",
    "                                                                                feature_columns=all_feature_columns,\n",
    "                                                                                label_column=\"MET-type Label\",\n",
    "                                                                                clf_obj = best_classifier,\n",
    "                                                                                min_class_size = 5,\n",
    "                                                                                min_class_size_subsampling=5,\n",
    "                                                                                feature_weights=None,\n",
    "                                                                                num_iterations=500,\n",
    "                                                                                subsampling_rate=0.95,\n",
    "                                                                                undersample_dict={},\n",
    "                                                                               )"
   ]
  },
  {
   "cell_type": "code",
   "execution_count": 92,
   "metadata": {},
   "outputs": [],
   "source": [
    "em_met_result_df.to_csv(\"Final_EM_MetType_Preds_RFC_Resamp_AllFeats_NoRadius.csv\")"
   ]
  },
  {
   "cell_type": "code",
   "execution_count": 94,
   "metadata": {},
   "outputs": [
    {
     "data": {
      "text/plain": [
       "count    173.000000\n",
       "mean       0.891191\n",
       "std        0.157836\n",
       "min        0.358000\n",
       "25%        0.824000\n",
       "50%        0.984000\n",
       "75%        1.000000\n",
       "max        1.000000\n",
       "Name: probability, dtype: float64"
      ]
     },
     "execution_count": 94,
     "metadata": {},
     "output_type": "execute_result"
    }
   ],
   "source": [
    "em_met_result_df.probability.describe()"
   ]
  },
  {
   "cell_type": "code",
   "execution_count": 109,
   "metadata": {},
   "outputs": [],
   "source": [
    "em_met_result_df[\"num_pseq_training_samples\"] = em_met_result_df['predicted_MET-type Label'].map(training_samples_by_met_type)"
   ]
  },
  {
   "cell_type": "code",
   "execution_count": null,
   "metadata": {},
   "outputs": [],
   "source": []
  },
  {
   "cell_type": "code",
   "execution_count": null,
   "metadata": {},
   "outputs": [],
   "source": []
  },
  {
   "cell_type": "code",
   "execution_count": null,
   "metadata": {},
   "outputs": [],
   "source": []
  },
  {
   "cell_type": "code",
   "execution_count": null,
   "metadata": {},
   "outputs": [],
   "source": []
  },
  {
   "cell_type": "code",
   "execution_count": null,
   "metadata": {},
   "outputs": [],
   "source": []
  },
  {
   "cell_type": "code",
   "execution_count": 102,
   "metadata": {},
   "outputs": [
    {
     "data": {
      "text/html": [
       "<div>\n",
       "<style scoped>\n",
       "    .dataframe tbody tr th:only-of-type {\n",
       "        vertical-align: middle;\n",
       "    }\n",
       "\n",
       "    .dataframe tbody tr th {\n",
       "        vertical-align: top;\n",
       "    }\n",
       "\n",
       "    .dataframe thead th {\n",
       "        text-align: right;\n",
       "    }\n",
       "</style>\n",
       "<table border=\"1\" class=\"dataframe\">\n",
       "  <thead>\n",
       "    <tr style=\"text-align: right;\">\n",
       "      <th></th>\n",
       "      <th>Unnamed: 0_previous</th>\n",
       "      <th>id_previous</th>\n",
       "      <th>predicted_MET-type Label_previous</th>\n",
       "      <th>probability_previous</th>\n",
       "      <th>id</th>\n",
       "      <th>predicted_MET-type Label</th>\n",
       "      <th>probability</th>\n",
       "    </tr>\n",
       "  </thead>\n",
       "  <tbody>\n",
       "    <tr>\n",
       "      <th>1</th>\n",
       "      <td>2</td>\n",
       "      <td>864691135118298333</td>\n",
       "      <td>Sst-MET-6</td>\n",
       "      <td>0.598</td>\n",
       "      <td>864691135118298333</td>\n",
       "      <td>Sst-MET-4</td>\n",
       "      <td>0.79</td>\n",
       "    </tr>\n",
       "  </tbody>\n",
       "</table>\n",
       "</div>"
      ],
      "text/plain": [
       "   Unnamed: 0_previous         id_previous predicted_MET-type Label_previous  \\\n",
       "1                    2  864691135118298333                         Sst-MET-6   \n",
       "\n",
       "   probability_previous                  id predicted_MET-type Label  \\\n",
       "1                 0.598  864691135118298333                Sst-MET-4   \n",
       "\n",
       "   probability  \n",
       "1         0.79  "
      ]
     },
     "execution_count": 102,
     "metadata": {},
     "output_type": "execute_result"
    }
   ],
   "source": [
    "previous_predictions = pd.read_csv(\"../big_batch_v1_correct_layer_template/EM_MC_Predicted_MET_Labels_11_18_22.csv\")\n",
    "previous_predictions.columns=[c+\"_previous\" for c in previous_predictions.columns]\n",
    "\n",
    "compare_df = previous_predictions.merge(em_met_result_df,left_on='id_previous',right_on='id')\n",
    "compare_df[compare_df['predicted_MET-type Label_previous']!=compare_df['predicted_MET-type Label']]"
   ]
  },
  {
   "cell_type": "code",
   "execution_count": null,
   "metadata": {},
   "outputs": [],
   "source": []
  },
  {
   "cell_type": "code",
   "execution_count": null,
   "metadata": {},
   "outputs": [],
   "source": []
  },
  {
   "cell_type": "code",
   "execution_count": null,
   "metadata": {},
   "outputs": [],
   "source": []
  },
  {
   "cell_type": "code",
   "execution_count": null,
   "metadata": {},
   "outputs": [],
   "source": []
  },
  {
   "cell_type": "code",
   "execution_count": null,
   "metadata": {},
   "outputs": [],
   "source": []
  },
  {
   "cell_type": "code",
   "execution_count": null,
   "metadata": {},
   "outputs": [],
   "source": []
  },
  {
   "cell_type": "code",
   "execution_count": null,
   "metadata": {},
   "outputs": [],
   "source": []
  },
  {
   "cell_type": "code",
   "execution_count": null,
   "metadata": {},
   "outputs": [],
   "source": []
  },
  {
   "cell_type": "code",
   "execution_count": 3,
   "metadata": {},
   "outputs": [],
   "source": [
    "from sklearn.metrics import confusion_matrix\n",
    "from copy import copy\n",
    "def clf_stratified(df, ft_cols,labels_col,title, clf_obj, undersample_dict = {}, num_folds=5,num_outter_its=1):\n",
    "    \"\"\"\n",
    "    Will run  labels_col prediction  with stratified kfold to properly include all ttypes in each train/test split\n",
    "    \n",
    "    num folds should  equal 5 if we are doing an n>=5 threshold\n",
    "    undersample_dict = dicitonary where keys are met-labels and values are the fraction of datapoints to drop\n",
    "    from that group\n",
    "    clf_obj should be an unfit classifier object\n",
    "    \n",
    "    \"\"\"\n",
    "    df = copy(df)\n",
    "#     shape_0=len(df)\n",
    "#     df.dropna(inplace=True)\n",
    "#     shape_1=len(df)\n",
    "    \n",
    "#     if shape_1 != shape_0:\n",
    "#         print(\"Dropped {} Nan Containing Cells\".format(shape_0-shape_1))\n",
    "        \n",
    "    n_ct_series = df.groupby(labels_col)[labels_col].transform('size').astype(str)\n",
    "    n_ct_series = ' (n=' + n_ct_series + ')'\n",
    "#     df[labels_col] = df[labels_col] + n_ct_series.astype(str)\n",
    "    \n",
    "\n",
    "    feature_values = df[ft_cols].values\n",
    "    labels = df[labels_col].values\n",
    "\n",
    "    min_num_groupsize = min(df[labels_col].value_counts().to_dict().values())\n",
    "    if min_num_groupsize < 5:\n",
    "        num_folds = min_num_groupsize\n",
    "        \n",
    "    if num_folds < 2:\n",
    "        num_folds = 2\n",
    "    print('-----------------------------------------------------------------')\n",
    "    print('RFC by {}'.format(labels_col))\n",
    "    print('-----------------------------------------------------------------'+'\\n')\n",
    "\n",
    "    print('There are {} unique labels in the {} cells'.format(len(df[labels_col].unique()),len(labels)))\n",
    "    print('')\n",
    "    print(df[labels_col].value_counts())\n",
    "    print('')\n",
    "\n",
    "    score = np.zeros(len(ft_cols))\n",
    "    avg_score = []\n",
    "\n",
    "    possible_labels = df[labels_col].unique()\n",
    "    num_correct = dict(zip(possible_labels,np.zeros(len(possible_labels))))\n",
    "    num_occurances = dict(zip(possible_labels,np.zeros(len(possible_labels))))\n",
    "    value_counts_dict = dict(zip(df[labels_col].unique(),df[labels_col].value_counts()))\n",
    "    conf_mat = np.zeros([len(np.unique(labels)),len(np.unique(labels))])\n",
    "\n",
    "    for it in range(num_outter_its):# range(0,100//num_folds):\n",
    "        \n",
    "        #shuffle data, train and test\n",
    "        skfold = StratifiedKFold(n_splits=num_folds, random_state=None, shuffle=True)\n",
    "\n",
    "        feature_values = df[ft_cols].values\n",
    "        labels = df[labels_col].values\n",
    "        \n",
    "        if undersample_dict != {}:\n",
    "            \n",
    "            train_df = pd.DataFrame(np.hstack((feature_values, labels.reshape(-1,1))),columns=ft_cols+[labels_col])\n",
    "            for k,pct_to_erod in undersample_dict.items():\n",
    "                n_drop_from_training = int( len(train_df[train_df['met_type']==k])*pct_to_erod)\n",
    "                tr_drop_index = np.random.choice(train_df[train_df['met_type']==k].index, n_drop_from_training, replace=False, )\n",
    "                train_df = train_df.loc[~train_df.index.isin(tr_drop_index)]\n",
    "\n",
    "            feature_values = train_df[feature_columns].values\n",
    "            labels = train_df['met_type'].values\n",
    "            \n",
    "            print(train_df['met_type'].value_counts())\n",
    "        \n",
    "        for train_index, test_index in skfold.split(feature_values, labels):\n",
    "            X_train = feature_values[train_index]\n",
    "            Y_train = labels[train_index]\n",
    "\n",
    "            X_test = feature_values[test_index]\n",
    "            Y_test = labels[test_index]\n",
    "            \n",
    "            \n",
    "            clf = clone(clf_obj)\n",
    "\n",
    "                \n",
    "            clf.fit(X_train, Y_train)\n",
    "\n",
    "            results = clf.predict(X_test)\n",
    "\n",
    "            # getting per class accuracy scores\n",
    "            for ind,res in enumerate(results):\n",
    "                num_occurances[Y_test[ind]]+=1\n",
    "                if res == Y_test[ind]:\n",
    "                    num_correct[res]+=1           \n",
    "\n",
    "            conf_mat+=confusion_matrix(Y_test,results,labels = possible_labels)\n",
    "\n",
    "            mean_score = clf.score(X_test,Y_test)\n",
    "            avg_score.append(mean_score)\n",
    "#             score+=clf.feature_importances_\n",
    "\n",
    "\n",
    "    Average_performance = np.mean(np.asarray(avg_score))\n",
    "    Std_performance = np.std(np.asarray(avg_score))\n",
    "    score_dict = dict(zip(score,ft_cols))\n",
    "    sorted_scores_dict = {}\n",
    "    for enum,i in enumerate(sorted(score_dict,reverse=True)):\n",
    "        sorted_scores_dict[i] = score_dict[i]\n",
    "        print(score_dict[i])\n",
    "    \n",
    "    for ke in value_counts_dict.keys():\n",
    "        class_acc = num_correct[ke]/num_occurances[ke]\n",
    "\n",
    "    fig = plt.gcf()\n",
    "    ax = plt.gca()\n",
    "    row_sums = np.sum(conf_mat,axis=1)\n",
    "    raw_confusion_df = pd.DataFrame(conf_mat,columns=possible_labels,index=possible_labels)\n",
    "    percent_conf_mat = (conf_mat.T / row_sums).T\n",
    "    np.nan_to_num(percent_conf_mat,0)\n",
    "\n",
    "    \n",
    "    \n",
    "    use_custom_sort = False\n",
    "    \n",
    "    if use_custom_sort:\n",
    "        subclass_order = [\"IT\",\"PT\",\"NP\",\"CT\",\"L6b\"]\n",
    "        sorted_labels = sorted(possible_labels, key=lambda x: (subclass_order.index(x.split(\"-\")[0]),x.split(\"-\")[-1]))\n",
    "    else:\n",
    "        sorted_labels = sorted(possible_labels)\n",
    "    \n",
    "    confusion_df = pd.DataFrame(percent_conf_mat,columns=possible_labels)\n",
    "    confusion_df.set_index([possible_labels],inplace=True)\n",
    "    confusion_df = confusion_df[sorted_labels]\n",
    "    \n",
    "    if use_custom_sort:\n",
    "        new_confusion_df = pd.DataFrame()\n",
    "        for lab in sorted_labels:\n",
    "            this_lab = confusion_df.loc[lab]\n",
    "            new_confusion_df= new_confusion_df.append(this_lab)\n",
    "        confusion_df = new_confusion_df[sorted_labels]\n",
    "        \n",
    "    else:\n",
    "        confusion_df.sort_index(inplace=True) \n",
    "\n",
    "    vals = confusion_df.values\n",
    "    vals = vals.astype(object)\n",
    "    for i in range(len(vals)):\n",
    "        for j in range(len(vals)):\n",
    "            if i==j:\n",
    "                vals[i,j] = str(round(vals[i,j],2))\n",
    "                continue\n",
    "            else:\n",
    "                vals[i,j] = ''\n",
    "    diagonal_vals = vals.astype('str')\n",
    "\n",
    "    con = sns.heatmap(confusion_df,\n",
    "                      annot=diagonal_vals,\n",
    "                      fmt = '', \n",
    "                      xticklabels=sorted_labels,\n",
    "                      yticklabels= sorted_labels,\n",
    "                     vmin=0,vmax=1.0,\n",
    "                      annot_kws={\"size\":8})\n",
    "\n",
    "    ax.set_xticklabels(ax.get_xticklabels(), rotation=90,horizontalalignment='right')\n",
    "    ax.set_yticklabels(ax.get_yticklabels(), rotation=0,horizontalalignment='right')\n",
    "\n",
    "    con.set_xlabel('Prediction')\n",
    "    con.set_ylabel('Truth')\n",
    "\n",
    "    fig.set_size_inches(8,7)\n",
    "    confusion_title = title + ' acc = {} +/- {}'.format(round(Average_performance,3),round(Std_performance,3))\n",
    "    ax.set_title(confusion_title)\n",
    "    return fig,ax, sorted_scores_dict, confusion_df, raw_confusion_df\n"
   ]
  },
  {
   "cell_type": "code",
   "execution_count": 90,
   "metadata": {},
   "outputs": [],
   "source": [
    "from tqdm import tqdm\n",
    "from sklearn.base import clone\n",
    "\n",
    "\n",
    "def predict_labels_with_probability(source_dataframe,\n",
    "                                    prediction_dataframe,\n",
    "                                    prediction_id_column,\n",
    "                                    feature_columns,\n",
    "                                    label_column,\n",
    "                                    clf_obj,\n",
    "                                    min_class_size = 5,\n",
    "                                    min_class_size_subsampling=5,\n",
    "                                    feature_weights=None,\n",
    "                                    num_iterations=500,\n",
    "                                    subsampling_rate=0.95,\n",
    "                                    undersample_dict={},\n",
    "                                   ):\n",
    "    \n",
    "    \"\"\"\n",
    "\n",
    "    :param source_dataframe: dataframe, the training dataframe (IVSCC) must have all feature columns and label_column (e.g. met_type)\n",
    "    :param prediction_dataframe: dataframe, the dataframe you would like to assign labels to, must have all feature columns and an id column\n",
    "    :param prediction_id_column: str, specimen id column in the prediction dataframe\n",
    "    :param feature_columns: list of features, must be present in both dataframes\n",
    "    :param label_column: str, what column from the source_dataframe  you want to predict \n",
    "    :param min_class_size: int, the smallest representation allowed in training data, instances from a class with fewer than this value will be dropped\n",
    "    :param min_class_size_subsampling: int, when subsampling, what is the smallest you want to erode any given class of training data\n",
    "    :param feature_weights: list/array of feature weights if you want to scale them for any distance based metrics\n",
    "    :param num_iterations: int, how many iterations of classification to run\n",
    "    :param subsampling_rate: float in range 0-1.0. Represents the percent of IVSCC cells to subsample in each iteration\n",
    "\n",
    "\n",
    "    :return: result_df: dataframe, has the following columns: [\"id\",'predicted_label_column','probability']\n",
    "    :return: results: mxn numpy array, m = prediction cells, n=all unique possible labels, the ith,jth value indicates how \n",
    "    many times the ith cell was predited to be the jth label\n",
    "    :return: all_accuracies: list, keeps track of either oob_score or training error of each classifier\n",
    "    \"\"\"\n",
    "    prediction_dataframe=prediction_dataframe.copy(deep=True)\n",
    "#     prediction_dataframe.fillna(0,inplace=True)\n",
    "    \n",
    "    source_dataframe=source_dataframe.copy()\n",
    "    \n",
    "    labels_above_threshold = [k for k,v in source_dataframe[label_column].value_counts().to_dict().items() if v>=min_class_size]\n",
    "    source_dataframe = source_dataframe[source_dataframe[label_column].isin(labels_above_threshold)]\n",
    "    \n",
    "    num_source_datapoints_to_drop = int(len(source_dataframe)*(1-subsampling_rate))\n",
    "\n",
    "#     if not feature_weights:\n",
    "#         feature_weights = [1]*len(feature_columns)\n",
    "        \n",
    "    prediction_data_array = prediction_dataframe[feature_columns].values\n",
    "#     prediction_data_array = np.multiply(prediction_data_array,feature_weights)\n",
    "    prediction_ids = prediction_dataframe[prediction_id_column].tolist()\n",
    "    \n",
    "    unique_labels = source_dataframe[label_column].unique().tolist()\n",
    "    results = np.zeros((len(prediction_ids), len(unique_labels)))\n",
    "    \n",
    "\n",
    "    all_accuracies = []\n",
    "    for outter_it in tqdm(range(num_iterations)):\n",
    "        \n",
    "        if undersample_dict == {}:\n",
    "\n",
    "            #subsample the entirety of our source dataset according to subsampling_rate\n",
    "            source_labels_value_counts = source_dataframe[label_column].value_counts().to_dict()\n",
    "            source_dataframe_subsampled = source_dataframe.copy(deep=True)\n",
    "            for _ in range(num_source_datapoints_to_drop):\n",
    "\n",
    "                available_labels_to_drop = [k for k,v in source_labels_value_counts.items() if v>min_class_size_subsampling]\n",
    "                current_number_of_cells = sum([source_labels_value_counts[v] for v in available_labels_to_drop])\n",
    "                probability_of_available_labels = [source_labels_value_counts[k]/current_number_of_cells for k in available_labels_to_drop]\n",
    "                if available_labels_to_drop:\n",
    "                    label_to_drop = np.random.choice(available_labels_to_drop,p=probability_of_available_labels)\n",
    "                    idx_to_drop = np.random.choice(source_dataframe_subsampled[source_dataframe_subsampled[label_column]==label_to_drop].index)\n",
    "                    source_dataframe_subsampled = source_dataframe_subsampled.drop(idx_to_drop)\n",
    "                    source_labels_value_counts[label_to_drop] = source_labels_value_counts[label_to_drop] - 1 \n",
    "\n",
    "        else:\n",
    "            source_dataframe_subsampled = source_dataframe.copy(deep=True)            \n",
    "            for k,pct_to_erod in undersample_dict.items():\n",
    "                n_drop_from_training = int( len(source_dataframe_subsampled[source_dataframe_subsampled['met_type']==k])*pct_to_erod)\n",
    "                tr_drop_index = np.random.choice(source_dataframe_subsampled[source_dataframe_subsampled['met_type']==k].index, n_drop_from_training, replace=False, )\n",
    "                source_dataframe_subsampled = source_dataframe_subsampled.loc[~source_dataframe_subsampled.index.isin(tr_drop_index)]\n",
    "\n",
    "           \n",
    "            \n",
    "#             print(source_dataframe_subsampled[label_column].value_counts())\n",
    "        \n",
    "        feature_values = source_dataframe_subsampled[feature_columns].values\n",
    "#         feature_values = np.multiply(feature_values,feature_weights)\n",
    "        labels = source_dataframe_subsampled[label_column].values\n",
    "        \n",
    "        classifier = clone(clf_obj)\n",
    "    \n",
    "        classifier.fit(feature_values, labels)\n",
    "        \n",
    "        if hasattr(classifier, 'oob_score_'):\n",
    "            all_accuracies.append(classifier.oob_score_)\n",
    "            \n",
    "        else:\n",
    "            all_accuracies.append(classifier.score(feature_values, labels))\n",
    "\n",
    "        predictions = classifier.predict(prediction_data_array)\n",
    "        predictions_by_id = dict(zip(prediction_ids,predictions))\n",
    "        # keep track of predictions \n",
    "        for sample_id, pred_label in predictions_by_id.items():\n",
    "            row_idx = prediction_ids.index(sample_id)\n",
    "            col_ids = unique_labels.index(pred_label)\n",
    "            results[row_idx, col_ids]+=1\n",
    "        \n",
    "       \n",
    "    # create simple dataframe     \n",
    "    chosen_label_indices = np.argmax(results,axis=1)\n",
    "    chosen_label_occurence = np.max(results,axis=1)\n",
    "    chosen_labels = [unique_labels[i] for i in chosen_label_indices]\n",
    "    probability = chosen_label_occurence/num_iterations\n",
    "\n",
    "    result_df = pd.DataFrame({\"id\":prediction_ids,\n",
    "                 f\"predicted_{label_column}\":chosen_labels,\n",
    "                 \"probability\":probability})\n",
    "\n",
    "    return result_df, results, all_accuracies\n"
   ]
  },
  {
   "cell_type": "code",
   "execution_count": null,
   "metadata": {},
   "outputs": [],
   "source": []
  },
  {
   "cell_type": "code",
   "execution_count": null,
   "metadata": {},
   "outputs": [],
   "source": []
  },
  {
   "cell_type": "code",
   "execution_count": null,
   "metadata": {},
   "outputs": [],
   "source": []
  },
  {
   "cell_type": "code",
   "execution_count": null,
   "metadata": {},
   "outputs": [],
   "source": []
  }
 ],
 "metadata": {
  "kernelspec": {
   "display_name": "Python 3 (ipykernel)",
   "language": "python",
   "name": "python3"
  },
  "language_info": {
   "codemirror_mode": {
    "name": "ipython",
    "version": 3
   },
   "file_extension": ".py",
   "mimetype": "text/x-python",
   "name": "python",
   "nbconvert_exporter": "python",
   "pygments_lexer": "ipython3",
   "version": "3.9.19"
  }
 },
 "nbformat": 4,
 "nbformat_minor": 4
}
