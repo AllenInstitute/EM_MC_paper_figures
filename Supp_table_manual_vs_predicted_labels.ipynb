{
 "cells": [
  {
   "cell_type": "code",
   "execution_count": 4,
   "id": "90bd7033",
   "metadata": {},
   "outputs": [],
   "source": [
    "import pandas as pd\n",
    "from caveclient import CAVEclient\n",
    "client = CAVEclient('minnie65_phase3_v1')\n",
    "from datetime import datetime, timezone\n"
   ]
  },
  {
   "cell_type": "code",
   "execution_count": 5,
   "id": "0179a720",
   "metadata": {},
   "outputs": [
    {
     "name": "stderr",
     "output_type": "stream",
     "text": [
      "WARNING:root:Suffixes is deprecated for complex queries as it can be ambiguous what you desire, please pass suffix_map as a dictionary to explicitly set suffixes for individual tables. Upgrade caveclient to >=5.0.0\n"
     ]
    },
    {
     "name": "stdout",
     "output_type": "stream",
     "text": [
      "          pt_root_id                                \n",
      "Predicted        23P   4P 5P-ET 5P-IT 5P-NP  6P  INH\n",
      "Manual                                              \n",
      "23P              545  419     1     1     0   0    1\n",
      "4P                 5  492     1   133     0   0    5\n",
      "5P-ET              0    0   112    20     0   3   19\n",
      "5P-IT              1    8     5   234     2  41   15\n",
      "5P-NP              0    0     0     1     0   0    0\n",
      "6P                 0    0     0     0     0  50    0\n",
      "INH                2    4     3     4     0   1  195\n"
     ]
    }
   ],
   "source": [
    "###compare cg calls with Leila's classifier\n",
    "settime = datetime(2022, 9, 20, 4, 0, 0, 0, tzinfo=timezone.utc)\n",
    "md3 = client.materialize.query_table('allen_subclass_type_svm_v0', timestamp = settime)\n",
    "df = client.materialize.query_table('cg_cell_type_calls', timestamp = settime)\n",
    "df = df.drop_duplicates(subset ='post_pt_root_id')\n",
    "\n",
    "df_comp = pd.merge(df, md3, left_on = 'post_pt_root_id', right_on = 'pt_root_id')\n",
    "\n",
    "df_comp['cell_type_x'] = df_comp['cell_type_x'].str.replace('1P','23P')\n",
    "df_comp['cell_type_x'] = df_comp['cell_type_x'].str.replace('5P_IT','5P-IT')\n",
    "df_comp['cell_type_x'] = df_comp['cell_type_x'].str.replace('5P_NP','5P-NP')\n",
    "df_comp['cell_type_x'] = df_comp['cell_type_x'].str.replace('5P_PT','5P-ET')                   \n",
    "                   \n",
    "df_comp['cell_type_y'] = df_comp['cell_type_y'].str.replace('BC','INH')\n",
    "df_comp['cell_type_y'] = df_comp['cell_type_y'].str.replace('MC','INH')\n",
    "df_comp['cell_type_y'] = df_comp['cell_type_y'].str.replace('NGC','INH')\n",
    "df_comp['cell_type_y'] = df_comp['cell_type_y'].str.replace('BPC','INH')\n",
    "df_comp['cell_type_y'] = df_comp['cell_type_y'].str.replace('6P-CT','6P')\n",
    "df_comp['cell_type_y'] = df_comp['cell_type_y'].str.replace('6P-IT','6P')\n",
    "df_comp['cell_type_y'] = df_comp['cell_type_y'].str.replace('5P-PT','5P-ET')\n",
    "                   \n",
    "df_comp_sub = df_comp[['cell_type_x','pt_root_id',  'cell_type_y' ]]\n",
    "df_comp_sub = df_comp_sub.rename(columns={\"cell_type_x\": \"Manual\", \"cell_type_y\": \"Predicted\"})\n",
    "table = pd.pivot_table(df_comp_sub, index=['Manual'],\n",
    "                    columns=['Predicted'], aggfunc=\"count\", fill_value=0)\n",
    "print (table)"
   ]
  },
  {
   "cell_type": "code",
   "execution_count": null,
   "id": "ffaa0d03",
   "metadata": {},
   "outputs": [],
   "source": []
  }
 ],
 "metadata": {
  "kernelspec": {
   "display_name": "Python 3",
   "language": "python",
   "name": "python3"
  },
  "language_info": {
   "codemirror_mode": {
    "name": "ipython",
    "version": 3
   },
   "file_extension": ".py",
   "mimetype": "text/x-python",
   "name": "python",
   "nbconvert_exporter": "python",
   "pygments_lexer": "ipython3",
   "version": "3.8.8"
  }
 },
 "nbformat": 4,
 "nbformat_minor": 5
}
